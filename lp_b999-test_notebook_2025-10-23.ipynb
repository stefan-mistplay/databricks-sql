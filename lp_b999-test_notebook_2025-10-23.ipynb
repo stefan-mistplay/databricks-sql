{
 "cells": [
  {
   "cell_type": "code",
   "execution_count": 0,
   "metadata": {
    "application/vnd.databricks.v1+cell": {
     "cellMetadata": {
      "byteLimit": 2048000,
      "implicitDf": true,
      "rowLimit": 10000
     },
     "inputWidgets": {},
     "nuid": "fd0d2986-d1b7-46e1-9691-96b35ce32914",
     "showTitle": false,
     "tableResultSettingsMap": {},
     "title": ""
    }
   },
   "outputs": [],
   "source": [
    "%sql\n",
    "\n",
    "WITH ranked_dups AS (\n",
    "    SELECT\n",
    "        uid,\n",
    "        pid,\n",
    "        host_id,\n",
    "        offer_id,\n",
    "        event_name,\n",
    "        is_backfill,\n",
    "        refund_withheld,\n",
    "        order AS achievement_order,\n",
    "        reward_amount,\n",
    "        reward_usd,\n",
    "        created_at,\n",
    "        partition_dt,\n",
    "        ROW_NUMBER() OVER (\n",
    "            PARTITION BY uid, pid, event_name, reward_usd\n",
    "            ORDER BY created_at\n",
    "        ) AS rn\n",
    "    FROM datalake_prd.silver.lp_game_achievements\n",
    "    WHERE partition_dt >= DATE_SUB(current_date(), 30)\n",
    "),\n",
    "\n",
    "game_titles AS (\n",
    "    SELECT uid, pid, title\n",
    "    FROM silver.lp_installs\n",
    "),\n",
    "\n",
    "latest_ipqs AS (\n",
    "    SELECT\n",
    "        userId,\n",
    "        bot_status,\n",
    "        ROW_NUMBER() OVER (PARTITION BY userId ORDER BY timestamp DESC) AS ipqs_rn\n",
    "    FROM datalake_prd.fraud.lp_ipqs_ip\n",
    "),\n",
    "\n",
    "earliest_ipqs AS (\n",
    "    SELECT\n",
    "        userId,\n",
    "        bot_status,\n",
    "        ROW_NUMBER() OVER (PARTITION BY userId ORDER BY timestamp ASC) AS ipqs_rn \n",
    "    FROM datalake_prd.fraud.lp_ipqs_ip\n",
    "),\n",
    "\n",
    "full_profile AS (\n",
    "SELECT\n",
    "    rd.uid AS user_id,\n",
    "    lpu.created_at AS user_creation_date,\n",
    "    rd.host_id,\n",
    "    lpu.b_reason AS ban_reason,\n",
    "    rd.pid AS PID,\n",
    "    gt.title AS game_title,\n",
    "    first_ipqs.bot_status AS first_bot_status,     \n",
    "    latest_ipqs.bot_status AS latest_bot_status,   \n",
    "    COUNT(*) AS achievement_count,\n",
    "    SUM(CASE WHEN is_backfill = true THEN 1 ELSE 0 END) AS backfill_ct,\n",
    "    SUM(CASE WHEN refund_withheld = true THEN 1 ELSE 0 END) AS withhold_ct,\n",
    "    SUM(CASE WHEN refund_withheld = true THEN reward_usd ELSE 0 END) AS withheld_value,\n",
    "    SUM(reward_usd) AS reward_total_USD,\n",
    "    SUM(reward_usd) - SUM(CASE WHEN refund_withheld = true THEN reward_usd ELSE 0 END) AS reward_total_USD_after_withhold,\n",
    "    (DATE_DIFF(MINUTE, MIN(rd.created_at), MAX(rd.created_at)) / 60.0) AS achievement_minmax_delta_hours,\n",
    "    DATE_DIFF(MINUTE, MIN(rd.created_at), MAX(rd.created_at)) AS achievement_minmax_delta_minutes,\n",
    "    MAX(rd.created_at) AS most_recent_achievement\n",
    "FROM ranked_dups rd\n",
    "LEFT JOIN silver.lp_users lpu ON rd.uid = lpu.uid\n",
    "LEFT JOIN game_titles gt ON rd.uid = gt.uid AND rd.pid = gt.pid\n",
    "LEFT JOIN latest_ipqs ON rd.uid = latest_ipqs.userId AND latest_ipqs.ipqs_rn = 1\n",
    "LEFT JOIN earliest_ipqs first_ipqs ON rd.uid = first_ipqs.userId AND first_ipqs.ipqs_rn = 1 \n",
    "WHERE 1=1\n",
    "  AND rd.rn = 1\n",
    "  AND lpu.b_reason IS NULL\n",
    "  AND NOT (rd.pid = 'com.superplaystudios.dicedreams' AND lpu.created_at < '2025-10-01')\n",
    "GROUP BY\n",
    "    rd.uid,\n",
    "    lpu.created_at,\n",
    "    rd.host_id,\n",
    "    lpu.b_reason,\n",
    "    rd.pid,\n",
    "    gt.title,\n",
    "    first_ipqs.bot_status, \n",
    "    latest_ipqs.bot_status  \n",
    "HAVING achievement_count >= 5\n",
    "   AND achievement_minmax_delta_minutes <= 60\n",
    "   AND reward_total_USD >= 20\n",
    "   AND latest_bot_status IS true \n",
    "ORDER BY\n",
    "    reward_total_USD DESC\n",
    ")\n",
    "\n",
    "select user_id as UID from full_profile\n",
    "limit 20"
   ]
  }
 ],
 "metadata": {
  "application/vnd.databricks.v1+notebook": {
   "computePreferences": null,
   "dashboards": [],
   "environmentMetadata": {
    "base_environment": "",
    "environment_version": "4"
   },
   "inputWidgetPreferences": null,
   "language": "python",
   "notebookMetadata": {
    "mostRecentlyExecutedCommandWithImplicitDF": {
     "commandId": 6510895565379398,
     "dataframes": [
      "_sqldf"
     ]
    },
    "pythonIndentUnit": 4
   },
   "notebookName": "lp_b999-test_notebook_2025-10-23",
   "widgets": {}
  },
  "language_info": {
   "name": "python"
  }
 },
 "nbformat": 4,
 "nbformat_minor": 0
}
